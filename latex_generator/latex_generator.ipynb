{
 "cells": [
  {
   "cell_type": "code",
   "execution_count": 3,
   "metadata": {},
   "outputs": [],
   "source": [
    "import subprocess\n",
    "import os\n",
    "import re"
   ]
  },
  {
   "cell_type": "markdown",
   "metadata": {},
   "source": [
    "# Practice"
   ]
  },
  {
   "cell_type": "code",
   "execution_count": 4,
   "metadata": {},
   "outputs": [
    {
     "name": "stdout",
     "output_type": "stream",
     "text": [
      "..\\00_EnvironmentInstallation\\main00.ipynb\n",
      "..\\00_EnvironmentInstallation\\practice00.ipynb\n",
      "..\\01_MLIntroduction\\main01.ipynb\n",
      "..\\01_MLIntroduction\\practice01.ipynb\n",
      "..\\02_PreProcessing\\main02.ipynb\n",
      "..\\02_PreProcessing\\practice02.ipynb\n"
     ]
    }
   ],
   "source": [
    "dirs = [d for d in os.listdir('..') if bool(re.match('\\d+\\_.+?', d))]\n",
    "for d in dirs[:3]: \n",
    "    for f in os.listdir(os.path.join('..', d)):\n",
    "        if f.startswith('main') and f.endswith('.ipynb'):\n",
    "            readfile_path = os.path.join(\"..\", d, f)\n",
    "            writefile_path = os.path.join(\"..\", d, f.replace(\"main\", \"practice\"))\n",
    "            print(readfile_path)\n",
    "            print(writefile_path)\n",
    "            readfile = open(readfile_path, 'r', encoding='utf8')\n",
    "            writefile = open(writefile_path, 'w', encoding='utf8')\n",
    "            starts_equal = False\n",
    "            starts_all = False\n",
    "            for line in readfile:\n",
    "                if \"#==============your works ends================#\" in line:\n",
    "                    starts_equal = False\n",
    "                if \"#!==============your works ends================!#\" in line:\n",
    "                    starts_all = False\n",
    "                if starts_equal and \"=\" in line:\n",
    "                    line = line.split(\"=\")[0] + \"=\" + line[-5:]\n",
    "                if starts_all:\n",
    "                    line = line[:5] + line[-5:]\n",
    "                if \"#=============your works starts===============#\" in line:\n",
    "                    starts_equal = True\n",
    "                if \"#!=============your works starts===============!#\" in line:\n",
    "                    starts_all = True\n",
    "\n",
    "                writefile.write(line)\n",
    "                \n",
    "            readfile.close()\n",
    "            writefile.close()\n"
   ]
  },
  {
   "cell_type": "markdown",
   "metadata": {},
   "source": [
    "# Latex"
   ]
  },
  {
   "cell_type": "code",
   "execution_count": 5,
   "metadata": {},
   "outputs": [
    {
     "name": "stdout",
     "output_type": "stream",
     "text": [
      "working_dir 05_Classification\n"
     ]
    },
    {
     "ename": "IndexError",
     "evalue": "list index out of range",
     "output_type": "error",
     "traceback": [
      "\u001b[1;31m---------------------------------------------------------------------------\u001b[0m",
      "\u001b[1;31mIndexError\u001b[0m                                Traceback (most recent call last)",
      "\u001b[1;32m<ipython-input-5-8824c6c907fd>\u001b[0m in \u001b[0;36m<module>\u001b[1;34m\u001b[0m\n\u001b[0;32m      3\u001b[0m     \u001b[0mprint\u001b[0m\u001b[1;33m(\u001b[0m\u001b[1;34m\"working_dir\"\u001b[0m\u001b[1;33m,\u001b[0m \u001b[0mworking_dir\u001b[0m\u001b[1;33m)\u001b[0m\u001b[1;33m\u001b[0m\u001b[1;33m\u001b[0m\u001b[0m\n\u001b[0;32m      4\u001b[0m \u001b[1;33m\u001b[0m\u001b[0m\n\u001b[1;32m----> 5\u001b[1;33m     \u001b[0mfilename\u001b[0m \u001b[1;33m=\u001b[0m \u001b[1;33m[\u001b[0m\u001b[0mf\u001b[0m \u001b[1;32mfor\u001b[0m \u001b[0mf\u001b[0m \u001b[1;32min\u001b[0m \u001b[0mos\u001b[0m\u001b[1;33m.\u001b[0m\u001b[0mlistdir\u001b[0m\u001b[1;33m(\u001b[0m\u001b[0mos\u001b[0m\u001b[1;33m.\u001b[0m\u001b[0mpath\u001b[0m\u001b[1;33m.\u001b[0m\u001b[0mjoin\u001b[0m\u001b[1;33m(\u001b[0m\u001b[1;34m\"..\"\u001b[0m\u001b[1;33m,\u001b[0m \u001b[0mworking_dir\u001b[0m\u001b[1;33m)\u001b[0m\u001b[1;33m)\u001b[0m \u001b[1;32mif\u001b[0m \u001b[0mf\u001b[0m\u001b[1;33m.\u001b[0m\u001b[0mstartswith\u001b[0m\u001b[1;33m(\u001b[0m\u001b[1;34m'practice'\u001b[0m\u001b[1;33m)\u001b[0m\u001b[1;33m]\u001b[0m\u001b[1;33m[\u001b[0m\u001b[1;36m0\u001b[0m\u001b[1;33m]\u001b[0m\u001b[1;33m\u001b[0m\u001b[1;33m\u001b[0m\u001b[0m\n\u001b[0m\u001b[0;32m      6\u001b[0m     \u001b[0mfilepath\u001b[0m \u001b[1;33m=\u001b[0m \u001b[0mos\u001b[0m\u001b[1;33m.\u001b[0m\u001b[0mpath\u001b[0m\u001b[1;33m.\u001b[0m\u001b[0mjoin\u001b[0m\u001b[1;33m(\u001b[0m\u001b[1;34m\"..\"\u001b[0m\u001b[1;33m,\u001b[0m \u001b[0mworking_dir\u001b[0m\u001b[1;33m,\u001b[0m \u001b[0mfilename\u001b[0m\u001b[1;33m)\u001b[0m\u001b[1;33m\u001b[0m\u001b[1;33m\u001b[0m\u001b[0m\n\u001b[0;32m      7\u001b[0m     \u001b[0mcalls\u001b[0m \u001b[1;33m=\u001b[0m \u001b[1;33m[\u001b[0m\u001b[1;34m\"jupyter\"\u001b[0m\u001b[1;33m,\u001b[0m \u001b[1;34m\"nbconvert\"\u001b[0m\u001b[1;33m,\u001b[0m \u001b[1;34m\"--to\"\u001b[0m\u001b[1;33m,\u001b[0m \u001b[1;34m\"latex\"\u001b[0m\u001b[1;33m,\u001b[0m \u001b[0mfilepath\u001b[0m\u001b[1;33m]\u001b[0m\u001b[1;33m\u001b[0m\u001b[1;33m\u001b[0m\u001b[0m\n",
      "\u001b[1;31mIndexError\u001b[0m: list index out of range"
     ]
    }
   ],
   "source": [
    "working_dirs = [d for d in os.listdir(\"..\") if re.findall('\\d{2}', d)]\n",
    "for working_dir in working_dirs[5:6]:\n",
    "    print(\"working_dir\", working_dir)\n",
    "\n",
    "    filename = [f for f in os.listdir(os.path.join(\"..\", working_dir)) if f.startswith('practice')][0]\n",
    "    filepath = os.path.join(\"..\", working_dir, filename)\n",
    "    calls = [\"jupyter\", \"nbconvert\", \"--to\", \"latex\", filepath]\n",
    "    p = subprocess.Popen(\" \".join(calls), stdout=subprocess.PIPE, stderr=subprocess.PIPE, shell=True)\n",
    "    out, err = p.communicate()\n",
    "    print(\"out, err\")\n",
    "    print(out.decode(), err.decode())\n",
    "    print(\"=================\")\n",
    "    \n",
    "    tex_read_filepath = filepath.replace('ipynb', 'tex')\n",
    "    tex_write_filepath = tex_read_filepath.replace('.tex', '_mod.tex')\n",
    "\n",
    "    tex_read_file = open(tex_read_filepath, 'r', encoding='utf8')\n",
    "    tex_write_file = open(tex_write_filepath, 'w', encoding='utf8')\n",
    "    for line in tex_read_file:\n",
    "        if \"documentclass\" in line:\n",
    "            tex_write_file.write(line)\n",
    "            tex_write_file.write(\"    \\\\usepackage{fontspec}\\n\")\n",
    "            tex_write_file.write(\"    \\\\usepackage{xeCJK}\\n\")\n",
    "            tex_write_file.write(\"    \\\\setCJKmainfont{微軟正黑體}\\n\")\n",
    "        else:\n",
    "            static_dir = filename.replace('.ipynb', '') + \"_files\"\n",
    "            if static_dir in line:\n",
    "                static_file = re.findall('\\{' + static_dir + '.+?\\}', line)[0]\n",
    "                static_file_new = \"{../\" + working_dir + \"/\" + static_file[1:]\n",
    "                line = line.replace(static_file, static_file_new) \n",
    "            if \"imgs\" in line:\n",
    "                print(\"line ==>\", line)\n",
    "                print(\"=============================\")\n",
    "                line = line.replace(\"./imgs\", \"../\" + working_dir + \"/\" + \"imgs\")\n",
    "            if \"\\\\title\" in line:\n",
    "                to_be_replace = re.findall(\"\\{.+?\\}\", line)[0]\n",
    "                line = line.replace(to_be_replace, \"{\" + working_dir.replace(\"_\", \"\") + \"}\")\n",
    "            if not (\"users\" in line.lower() and \"administrator\" in line.lower()) and not \"gif\" in line.lower() and not (\"user\" in line and \"appdata\" in line.lower()):\n",
    "                tex_write_file.write(line)\n",
    "\n",
    "    tex_read_file.close()\n",
    "    tex_write_file.close()\n",
    "    \n",
    "    \n",
    "    calls = [\"xelatex\", tex_write_filepath]\n",
    "    p = subprocess.Popen(\" \".join(calls), stdout=subprocess.PIPE, stderr=subprocess.PIPE, shell=True)\n",
    "    out, err = p.communicate()\n",
    "    \n",
    "    print(\"out, err\")\n",
    "    print(out.decode(), err.decode())\n",
    "    print(\"=================\")\n",
    "    print(\"=================\")\n",
    "    print(\"=================\")\n",
    "    print(\"=================\")\n",
    "    print(\"=================\")\n"
   ]
  },
  {
   "cell_type": "code",
   "execution_count": 58,
   "metadata": {},
   "outputs": [
    {
     "data": {
      "text/plain": [
       "[None, None, None, None]"
      ]
     },
     "execution_count": 58,
     "metadata": {},
     "output_type": "execute_result"
    }
   ],
   "source": [
    "# [os.remove(f) for f in os.listdir() if f.startswith(filename.replace('.ipynb', ''))]\n"
   ]
  },
  {
   "cell_type": "code",
   "execution_count": null,
   "metadata": {
    "scrolled": false
   },
   "outputs": [],
   "source": []
  },
  {
   "cell_type": "code",
   "execution_count": null,
   "metadata": {},
   "outputs": [],
   "source": []
  }
 ],
 "metadata": {
  "kernelspec": {
   "display_name": "Python 3",
   "language": "python",
   "name": "python3"
  },
  "language_info": {
   "codemirror_mode": {
    "name": "ipython",
    "version": 3
   },
   "file_extension": ".py",
   "mimetype": "text/x-python",
   "name": "python",
   "nbconvert_exporter": "python",
   "pygments_lexer": "ipython3",
   "version": "3.6.8"
  }
 },
 "nbformat": 4,
 "nbformat_minor": 2
}
