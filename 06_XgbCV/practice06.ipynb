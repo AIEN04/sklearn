{
 "cells": [
  {
   "cell_type": "markdown",
   "metadata": {},
   "source": [
    "# XGB + CV"
   ]
  },
  {
   "cell_type": "code",
   "execution_count": 1,
   "metadata": {},
   "outputs": [],
   "source": [
    "import matplotlib.pyplot as plt\n",
    "from planar_utils import plot_decision_boundary, sigmoid, load_planar_dataset, load_extra_datasets\n",
    "import numpy as np\n",
    "import pandas as pd\n",
    "import os\n",
    "from collections import Counter \n",
    "\n",
    "from sklearn.neighbors import KNeighborsClassifier  ## KNN\n",
    "from sklearn.linear_model import LogisticRegressionCV  ## logistic regression\n",
    "from sklearn.tree import DecisionTreeClassifier  ## decision tree\n",
    "from sklearn.svm import SVC  ## SVM\n",
    "\n",
    "from sklearn.tree import DecisionTreeClassifier  ## decision tree\n",
    "from sklearn.ensemble import RandomForestClassifier, AdaBoostClassifier\n",
    "from xgboost import XGBClassifier\n",
    "\n",
    "import math\n",
    "import string\n",
    "import re\n",
    "\n",
    "import xgboost\n",
    "\n",
    "from preprocess import preprocess\n",
    "plt.rcParams['figure.figsize'] = [10, 8]"
   ]
  },
  {
   "cell_type": "markdown",
   "metadata": {
    "collapsed": true
   },
   "source": [
    "# 鐵達尼號資料集"
   ]
  },
  {
   "cell_type": "code",
   "execution_count": 2,
   "metadata": {
    "scrolled": true
   },
   "outputs": [
    {
     "data": {
      "text/html": [
       "<div>\n",
       "<style scoped>\n",
       "    .dataframe tbody tr th:only-of-type {\n",
       "        vertical-align: middle;\n",
       "    }\n",
       "\n",
       "    .dataframe tbody tr th {\n",
       "        vertical-align: top;\n",
       "    }\n",
       "\n",
       "    .dataframe thead th {\n",
       "        text-align: right;\n",
       "    }\n",
       "</style>\n",
       "<table border=\"1\" class=\"dataframe\">\n",
       "  <thead>\n",
       "    <tr style=\"text-align: right;\">\n",
       "      <th></th>\n",
       "      <th>PassengerId</th>\n",
       "      <th>Survived</th>\n",
       "      <th>Pclass</th>\n",
       "      <th>Sex</th>\n",
       "      <th>Age</th>\n",
       "      <th>SibSp</th>\n",
       "      <th>Parch</th>\n",
       "      <th>Ticket</th>\n",
       "      <th>Cabin</th>\n",
       "      <th>Embarked</th>\n",
       "      <th>Has_Cabin</th>\n",
       "      <th>Age_Cat</th>\n",
       "      <th>Fare_log2</th>\n",
       "      <th>Fare_Cat</th>\n",
       "      <th>Name_Length</th>\n",
       "      <th>Name_With_Special_Char</th>\n",
       "      <th>Family_Size</th>\n",
       "      <th>Title</th>\n",
       "    </tr>\n",
       "  </thead>\n",
       "  <tbody>\n",
       "    <tr>\n",
       "      <th>0</th>\n",
       "      <td>1</td>\n",
       "      <td>0</td>\n",
       "      <td>3</td>\n",
       "      <td>1</td>\n",
       "      <td>22.0</td>\n",
       "      <td>1</td>\n",
       "      <td>0</td>\n",
       "      <td>2</td>\n",
       "      <td>0</td>\n",
       "      <td>0</td>\n",
       "      <td>0</td>\n",
       "      <td>1</td>\n",
       "      <td>2.857981</td>\n",
       "      <td>0</td>\n",
       "      <td>23</td>\n",
       "      <td>0</td>\n",
       "      <td>1</td>\n",
       "      <td>1</td>\n",
       "    </tr>\n",
       "    <tr>\n",
       "      <th>1</th>\n",
       "      <td>2</td>\n",
       "      <td>1</td>\n",
       "      <td>1</td>\n",
       "      <td>0</td>\n",
       "      <td>38.0</td>\n",
       "      <td>1</td>\n",
       "      <td>0</td>\n",
       "      <td>5</td>\n",
       "      <td>3</td>\n",
       "      <td>2</td>\n",
       "      <td>1</td>\n",
       "      <td>2</td>\n",
       "      <td>6.155492</td>\n",
       "      <td>5</td>\n",
       "      <td>51</td>\n",
       "      <td>1</td>\n",
       "      <td>1</td>\n",
       "      <td>3</td>\n",
       "    </tr>\n",
       "    <tr>\n",
       "      <th>2</th>\n",
       "      <td>3</td>\n",
       "      <td>1</td>\n",
       "      <td>3</td>\n",
       "      <td>0</td>\n",
       "      <td>26.0</td>\n",
       "      <td>0</td>\n",
       "      <td>0</td>\n",
       "      <td>7</td>\n",
       "      <td>0</td>\n",
       "      <td>0</td>\n",
       "      <td>0</td>\n",
       "      <td>1</td>\n",
       "      <td>2.986411</td>\n",
       "      <td>0</td>\n",
       "      <td>22</td>\n",
       "      <td>0</td>\n",
       "      <td>0</td>\n",
       "      <td>2</td>\n",
       "    </tr>\n",
       "    <tr>\n",
       "      <th>3</th>\n",
       "      <td>4</td>\n",
       "      <td>1</td>\n",
       "      <td>1</td>\n",
       "      <td>0</td>\n",
       "      <td>35.0</td>\n",
       "      <td>1</td>\n",
       "      <td>0</td>\n",
       "      <td>1</td>\n",
       "      <td>3</td>\n",
       "      <td>0</td>\n",
       "      <td>1</td>\n",
       "      <td>2</td>\n",
       "      <td>5.730640</td>\n",
       "      <td>4</td>\n",
       "      <td>44</td>\n",
       "      <td>1</td>\n",
       "      <td>1</td>\n",
       "      <td>3</td>\n",
       "    </tr>\n",
       "    <tr>\n",
       "      <th>4</th>\n",
       "      <td>5</td>\n",
       "      <td>0</td>\n",
       "      <td>3</td>\n",
       "      <td>1</td>\n",
       "      <td>35.0</td>\n",
       "      <td>0</td>\n",
       "      <td>0</td>\n",
       "      <td>1</td>\n",
       "      <td>0</td>\n",
       "      <td>0</td>\n",
       "      <td>0</td>\n",
       "      <td>2</td>\n",
       "      <td>3.008989</td>\n",
       "      <td>0</td>\n",
       "      <td>24</td>\n",
       "      <td>0</td>\n",
       "      <td>0</td>\n",
       "      <td>1</td>\n",
       "    </tr>\n",
       "  </tbody>\n",
       "</table>\n",
       "</div>"
      ],
      "text/plain": [
       "   PassengerId  Survived  Pclass  Sex   Age  SibSp  Parch  Ticket  Cabin  \\\n",
       "0            1         0       3    1  22.0      1      0       2      0   \n",
       "1            2         1       1    0  38.0      1      0       5      3   \n",
       "2            3         1       3    0  26.0      0      0       7      0   \n",
       "3            4         1       1    0  35.0      1      0       1      3   \n",
       "4            5         0       3    1  35.0      0      0       1      0   \n",
       "\n",
       "   Embarked  Has_Cabin  Age_Cat  Fare_log2  Fare_Cat  Name_Length  \\\n",
       "0         0          0        1   2.857981         0           23   \n",
       "1         2          1        2   6.155492         5           51   \n",
       "2         0          0        1   2.986411         0           22   \n",
       "3         0          1        2   5.730640         4           44   \n",
       "4         0          0        2   3.008989         0           24   \n",
       "\n",
       "   Name_With_Special_Char  Family_Size  Title  \n",
       "0                       0            1      1  \n",
       "1                       1            1      3  \n",
       "2                       0            0      2  \n",
       "3                       1            1      3  \n",
       "4                       0            0      1  "
      ]
     },
     "execution_count": 2,
     "metadata": {},
     "output_type": "execute_result"
    }
   ],
   "source": [
    "df = pd.read_csv('train.csv')\n",
    "df = preprocess(df)\n",
    "df.head()"
   ]
  },
  {
   "cell_type": "code",
   "execution_count": 3,
   "metadata": {},
   "outputs": [],
   "source": [
    "X = df[['PassengerId', 'Pclass', 'Sex', 'Age', 'SibSp', 'Parch',\n",
    "       'Ticket', 'Cabin', 'Embarked', 'Has_Cabin', 'Age_Cat', 'Fare_log2',\n",
    "       'Fare_Cat', 'Name_Length', 'Name_With_Special_Char', 'Family_Size',\n",
    "       'Title']].values\n",
    "Y = df['Survived'].values"
   ]
  },
  {
   "cell_type": "code",
   "execution_count": 4,
   "metadata": {},
   "outputs": [
    {
     "name": "stdout",
     "output_type": "stream",
     "text": [
      "(623, 17)\n",
      "(268, 17)\n",
      "(623,)\n",
      "(268,)\n"
     ]
    }
   ],
   "source": [
    "from sklearn.model_selection  import train_test_split\n",
    "\n",
    "X_train, X_valid, Y_train, Y_valid = train_test_split(X, Y, test_size =0.3, random_state=1212)  ## 一般如果測試資料集超過1000筆就可以了，所以比率不會設這麼高\n",
    "print(X_train.shape)  ## (445, 17)\n",
    "print(X_valid.shape)  ## (446, 17) \n",
    "print(Y_train.shape)  ## (445,)\n",
    "print(Y_valid.shape)  ## (446,)"
   ]
  },
  {
   "cell_type": "code",
   "execution_count": 8,
   "metadata": {},
   "outputs": [
    {
     "name": "stderr",
     "output_type": "stream",
     "text": [
      "c:\\python\\python36\\lib\\site-packages\\sklearn\\svm\\base.py:196: FutureWarning: The default value of gamma will change from 'auto' to 'scale' in version 0.22 to account better for unscaled features. Set gamma explicitly to 'auto' or 'scale' to avoid this warning.\n",
      "  \"avoid this warning.\", FutureWarning)\n",
      "c:\\python\\python36\\lib\\site-packages\\sklearn\\ensemble\\forest.py:246: FutureWarning: The default value of n_estimators will change from 10 in version 0.20 to 100 in 0.22.\n",
      "  \"10 in version 0.20 to 100 in 0.22.\", FutureWarning)\n"
     ]
    },
    {
     "name": "stdout",
     "output_type": "stream",
     "text": [
      "SVM:  0.6455223880597015\n",
      "DecisionTree:  0.7761194029850746\n",
      "RandomForest:  0.8134328358208955\n",
      "AdaBoost:  0.7910447761194029\n",
      "XGB:  0.8432835820895522\n"
     ]
    }
   ],
   "source": [
    "def get_accuracy(clf):\n",
    "    #=============your works starts===============#\n",
    "    clf = clf()\n",
    "    clf = clf.fit(X_train,Y_train)\n",
    "    y_pred = clf.predict(X_valid)\n",
    "    accuracy = sum(Y_valid == y_pred)/len(y_pred)\n",
    "    #==============your works ends================#\n",
    "    return accuracy\n",
    "# print(sum(Y_valid == y_pred))\n",
    "print('SVM: ', get_accuracy(SVC))\n",
    "print('DecisionTree: ', get_accuracy(DecisionTreeClassifier))\n",
    "print('RandomForest: ', get_accuracy(RandomForestClassifier))\n",
    "print('AdaBoost: ', get_accuracy(AdaBoostClassifier))  ## Boosting的演算法\n",
    "print('XGB: ', get_accuracy(XGBClassifier))\n",
    "\n",
    "# SVM:  0.609865470852\n",
    "# DecisionTree:  0.764573991031\n",
    "# RandomForest:  0.795964125561\n",
    "# AdaBoost:  0.784753363229\n",
    "# XGB:  0.80269058296"
   ]
  },
  {
   "cell_type": "code",
   "execution_count": 17,
   "metadata": {
    "scrolled": true
   },
   "outputs": [
    {
     "name": "stdout",
     "output_type": "stream",
     "text": [
      "Accuracy:  0.8395522388059702\n"
     ]
    }
   ],
   "source": [
    "# Set our parameters for xgboost\n",
    "params = {}\n",
    "# 請填入以下參數: \n",
    "# 目標函數: 二元分類\n",
    "# 評價函數: logloss\n",
    "# 學習速度: 0.04\n",
    "# 最大深度: 5\n",
    "#=============your works starts===============#\n",
    "# params['objective'] = 'binary:logistic'\n",
    "params['objective'] = 'binary:logitraw'\n",
    "# params['eval_metric'] = 'logloss'\n",
    "params['eval_metric'] = 'rmse'\n",
    "params['eta'] = 0.04\n",
    "params['max_depth'] = 5\n",
    "#==============your works ends================#\n",
    "\n",
    "d_train = xgboost.DMatrix(X_train, label=Y_train)\n",
    "d_valid = xgboost.DMatrix(X_valid, label=Y_valid)\n",
    "\n",
    "watchlist = [(d_train, 'train'), (d_valid, 'valid')]\n",
    "\n",
    "bst = xgboost.train(params, d_train, 100, watchlist, early_stopping_rounds=100, verbose_eval=0)\n",
    "y_pred = bst.predict(xgboost.DMatrix(X_valid))\n",
    "print(\"Accuracy: \", str(sum(Y_valid == (y_pred > 0.5))/Y_valid.shape[0]))\n"
   ]
  },
  {
   "cell_type": "markdown",
   "metadata": {},
   "source": [
    "# 空氣品質"
   ]
  },
  {
   "cell_type": "code",
   "execution_count": 7,
   "metadata": {},
   "outputs": [],
   "source": [
    "# dateparse = lambda x: pd.datetime.strptime(x, '%d/%m/%Y %H:%M:%S')\n",
    "# dateparse_1 = lambda x: pd.datetime.strptime(x, '%Y-%m-%d %H:%M:%S')\n",
    "# EPA_6 = pd.read_csv('air_pollution_data/EPA_OD_201806.csv', parse_dates=['PublishTime'], date_parser=dateparse)\n",
    "# EPA_7 = pd.read_csv('air_pollution_data/EPA_OD_201807.csv', parse_dates=['PublishTime'], date_parser=dateparse)\n",
    "# EPA_8 = pd.read_csv('air_pollution_data/EPA_OD_201808.csv', parse_dates=['PublishTime'], date_parser=dateparse)\n",
    "# EPA_9 = pd.read_csv('air_pollution_data/EPA_OD_201809.csv', parse_dates=['PublishTime'], date_parser=dateparse)\n",
    "# EPA_10 = pd.read_csv('air_pollution_data/EPA_OD_201810.csv', parse_dates=['PublishTime'], date_parser=dateparse)\n",
    "# EPA_11 = pd.read_csv('air_pollution_data/EPA_OD_201811.csv', parse_dates=['PublishTime'], date_parser=dateparse)\n",
    "# EPA_12 = pd.read_csv('air_pollution_data/EPA_OD_201812.csv', parse_dates=['PublishTime'], date_parser=dateparse_1)\n",
    "# frames = [EPA_6, EPA_7, EPA_8, EPA_9, EPA_10, EPA_11, EPA_12]\n",
    "# df_AQI = pd.concat(frames)\n",
    "# df_AQI.to_pickle('air_pollution_data.pkl')\n",
    "# df_AQI.head()"
   ]
  },
  {
   "cell_type": "code",
   "execution_count": 8,
   "metadata": {},
   "outputs": [],
   "source": [
    "# df_AQI = pd.read_pickle('air_pollution_data.pkl')\n",
    "# df_AQI.sort_values(by='PublishTime', inplace=True)\n",
    "# df_AQI = df_AQI.loc[df_AQI['SiteName'] == '麥寮', ['SiteName', 'AQI', 'PM2.5', 'SO2', 'PublishTime']]\n",
    "# df_AQI.to_pickle('df_AQI_gl.pkl')"
   ]
  },
  {
   "cell_type": "code",
   "execution_count": 18,
   "metadata": {},
   "outputs": [],
   "source": [
    "df_AQI = pd.read_pickle('df_AQI_gl.pkl')"
   ]
  },
  {
   "cell_type": "code",
   "execution_count": 19,
   "metadata": {},
   "outputs": [],
   "source": [
    "window = 7\n",
    "shift = 1\n",
    "segments = int((df_AQI.shape[0] - window) // shift) + 1\n",
    "\n",
    "train = np.zeros((segments-1, 2 * window))\n",
    "target = np.zeros((segments-1,))\n",
    "for segment in range(segments -1):\n",
    "    seg = df_AQI.iloc[segment:segment+window][['SO2', 'PM2.5']]\n",
    "    target[segment] = df_AQI.iloc[segment+window][['AQI']]\n",
    "    train[segment] = np.append(seg['SO2'].values, seg['PM2.5'].values)"
   ]
  },
  {
   "cell_type": "code",
   "execution_count": 20,
   "metadata": {},
   "outputs": [],
   "source": [
    "train = np.where(np.isnan(train), -1, train)\n",
    "target = np.where(np.isnan(target), int(np.nanmean(target)), target)"
   ]
  },
  {
   "cell_type": "code",
   "execution_count": 21,
   "metadata": {},
   "outputs": [
    {
     "data": {
      "text/plain": [
       "((4721, 14), (4721,))"
      ]
     },
     "execution_count": 21,
     "metadata": {},
     "output_type": "execute_result"
    }
   ],
   "source": [
    "train.shape, target.shape"
   ]
  },
  {
   "cell_type": "code",
   "execution_count": 22,
   "metadata": {},
   "outputs": [
    {
     "data": {
      "text/plain": [
       "((3776, 14), (3776,), (945, 14), (945,))"
      ]
     },
     "execution_count": 22,
     "metadata": {},
     "output_type": "execute_result"
    }
   ],
   "source": [
    "X_train, X_valid, Y_train, Y_valid = train_test_split(train, target, test_size=0.2, random_state=2019)\n",
    "X_train.shape, Y_train.shape, X_valid.shape, Y_valid.shape"
   ]
  },
  {
   "cell_type": "code",
   "execution_count": 25,
   "metadata": {},
   "outputs": [
    {
     "name": "stdout",
     "output_type": "stream",
     "text": [
      "[0]\ttrain-rmse:76.1747\tvalid-rmse:76.5219\n",
      "Multiple eval metrics have been passed: 'valid-rmse' will be used for early stopping.\n",
      "\n",
      "Will train until valid-rmse hasn't improved in 50 rounds.\n",
      "[10]\ttrain-rmse:69.2443\tvalid-rmse:69.7998\n",
      "[20]\ttrain-rmse:62.993\tvalid-rmse:63.7725\n",
      "[30]\ttrain-rmse:57.3551\tvalid-rmse:58.3676\n",
      "[40]\ttrain-rmse:52.2739\tvalid-rmse:53.537\n",
      "[50]\ttrain-rmse:47.699\tvalid-rmse:49.2143\n",
      "[60]\ttrain-rmse:43.5828\tvalid-rmse:45.3689\n",
      "[70]\ttrain-rmse:39.8811\tvalid-rmse:41.9632\n",
      "[80]\ttrain-rmse:36.556\tvalid-rmse:38.9155\n",
      "[90]\ttrain-rmse:33.5719\tvalid-rmse:36.2215\n",
      "[100]\ttrain-rmse:30.8995\tvalid-rmse:33.8339\n",
      "[110]\ttrain-rmse:28.511\tvalid-rmse:31.7292\n",
      "[120]\ttrain-rmse:26.3782\tvalid-rmse:29.8953\n",
      "[130]\ttrain-rmse:24.4759\tvalid-rmse:28.3082\n",
      "[140]\ttrain-rmse:22.7833\tvalid-rmse:26.9174\n",
      "[150]\ttrain-rmse:21.2851\tvalid-rmse:25.7097\n",
      "[160]\ttrain-rmse:19.9574\tvalid-rmse:24.6691\n",
      "[170]\ttrain-rmse:18.784\tvalid-rmse:23.7789\n",
      "[180]\ttrain-rmse:17.7531\tvalid-rmse:23.0128\n",
      "[190]\ttrain-rmse:16.8502\tvalid-rmse:22.3559\n",
      "[200]\ttrain-rmse:16.0564\tvalid-rmse:21.8015\n",
      "[210]\ttrain-rmse:15.3657\tvalid-rmse:21.326\n",
      "[220]\ttrain-rmse:14.7638\tvalid-rmse:20.9167\n",
      "[230]\ttrain-rmse:14.2396\tvalid-rmse:20.5706\n",
      "[240]\ttrain-rmse:13.7728\tvalid-rmse:20.2832\n",
      "[250]\ttrain-rmse:13.371\tvalid-rmse:20.0367\n",
      "[260]\ttrain-rmse:13.0219\tvalid-rmse:19.8316\n",
      "[270]\ttrain-rmse:12.717\tvalid-rmse:19.6589\n",
      "[280]\ttrain-rmse:12.4492\tvalid-rmse:19.5142\n",
      "[290]\ttrain-rmse:12.2162\tvalid-rmse:19.3908\n",
      "[300]\ttrain-rmse:12.0212\tvalid-rmse:19.2909\n",
      "[310]\ttrain-rmse:11.8497\tvalid-rmse:19.2053\n",
      "[320]\ttrain-rmse:11.7\tvalid-rmse:19.1343\n",
      "[330]\ttrain-rmse:11.5719\tvalid-rmse:19.0736\n",
      "[340]\ttrain-rmse:11.4588\tvalid-rmse:19.0215\n",
      "[350]\ttrain-rmse:11.3536\tvalid-rmse:18.9855\n",
      "[360]\ttrain-rmse:11.2507\tvalid-rmse:18.953\n",
      "[370]\ttrain-rmse:11.159\tvalid-rmse:18.9271\n",
      "[380]\ttrain-rmse:11.0896\tvalid-rmse:18.8975\n",
      "[390]\ttrain-rmse:11.0187\tvalid-rmse:18.8688\n",
      "[400]\ttrain-rmse:10.946\tvalid-rmse:18.8483\n",
      "[410]\ttrain-rmse:10.887\tvalid-rmse:18.8349\n",
      "[420]\ttrain-rmse:10.8277\tvalid-rmse:18.8182\n",
      "[430]\ttrain-rmse:10.7591\tvalid-rmse:18.8075\n",
      "[440]\ttrain-rmse:10.701\tvalid-rmse:18.796\n",
      "[450]\ttrain-rmse:10.6505\tvalid-rmse:18.7848\n",
      "[460]\ttrain-rmse:10.6066\tvalid-rmse:18.7794\n",
      "[470]\ttrain-rmse:10.5586\tvalid-rmse:18.7723\n",
      "[480]\ttrain-rmse:10.5176\tvalid-rmse:18.7643\n",
      "[490]\ttrain-rmse:10.4786\tvalid-rmse:18.7533\n",
      "[500]\ttrain-rmse:10.4401\tvalid-rmse:18.7419\n",
      "[510]\ttrain-rmse:10.4182\tvalid-rmse:18.7334\n",
      "[520]\ttrain-rmse:10.3919\tvalid-rmse:18.7285\n",
      "[530]\ttrain-rmse:10.3714\tvalid-rmse:18.7268\n",
      "[540]\ttrain-rmse:10.3498\tvalid-rmse:18.7281\n",
      "[550]\ttrain-rmse:10.3282\tvalid-rmse:18.7308\n",
      "[560]\ttrain-rmse:10.3051\tvalid-rmse:18.729\n",
      "[570]\ttrain-rmse:10.2755\tvalid-rmse:18.7322\n",
      "[580]\ttrain-rmse:10.2528\tvalid-rmse:18.7313\n",
      "Stopping. Best iteration:\n",
      "[532]\ttrain-rmse:10.3682\tvalid-rmse:18.7261\n",
      "\n"
     ]
    }
   ],
   "source": [
    "# Set our parameters for xgboost\n",
    "params = {}\n",
    "\n",
    "# 請填入以下參數: \n",
    "# 目標函數: 線性回歸\n",
    "# 評價函數: rmse\n",
    "# 學習速度: 0.01\n",
    "# 最大深度: 5\n",
    "# bst = xgboost.train(params, d_train, 3000, watchlist, early_stopping_rounds=50, verbose_eval=10)\n",
    "#=============your works starts===============#\n",
    "params['objective'] = 'reg:linear'\n",
    "params['eval_metric'] = 'rmse'\n",
    "params['eta'] = 0.01\n",
    "params['max_depth'] = 5 \n",
    "d_train = xgboost.DMatrix(X_train, label=Y_train)\n",
    "d_valid = xgboost.DMatrix(X_valid, label=Y_valid)\n",
    "watchlist = [(d_train, 'train'), (d_valid, 'valid')]\n",
    "bst = xgboost.train(params, d_train, 3000, watchlist, early_stopping_rounds=50, verbose_eval=10)\n",
    "Y_pred = bst.predict(xgboost.DMatrix(X_valid))\n",
    "#==============your works ends================#\n"
   ]
  },
  {
   "cell_type": "code",
   "execution_count": 26,
   "metadata": {},
   "outputs": [
    {
     "data": {
      "image/png": "[encoded data removed]",
      "text/plain": [
       "<Figure size 432x288 with 1 Axes>"
      ]
     },
     "metadata": {
      "needs_background": "light"
     },
     "output_type": "display_data"
    }
   ],
   "source": [
    "# 請使用 xgboost.plot_importance，並設定max_num_features=10\n",
    "#!=============your works starts===============!#\n",
    "xgboost.plot_importance(bst,max_num_features=10)\n",
    "#!==============your works ends================!#\n",
    "\n",
    "plt.show()"
   ]
  },
  {
   "cell_type": "code",
   "execution_count": 27,
   "metadata": {},
   "outputs": [
    {
     "data": {
      "image/png": "[encoded data removed]",
      "text/plain": [
       "<Figure size 432x288 with 1 Axes>"
      ]
     },
     "metadata": {
      "needs_background": "light"
     },
     "output_type": "display_data"
    }
   ],
   "source": [
    "plt.plot(Y_pred, label='Y_pred', alpha=0.5, c='r')\n",
    "plt.plot(Y_valid, label='Y_valid', alpha=0.5, c='g')\n",
    "plt.show()"
   ]
  },
  {
   "cell_type": "code",
   "execution_count": 17,
   "metadata": {},
   "outputs": [
    {
     "data": {
      "text/html": [
       "<div>\n",
       "<style scoped>\n",
       "    .dataframe tbody tr th:only-of-type {\n",
       "        vertical-align: middle;\n",
       "    }\n",
       "\n",
       "    .dataframe tbody tr th {\n",
       "        vertical-align: top;\n",
       "    }\n",
       "\n",
       "    .dataframe thead th {\n",
       "        text-align: right;\n",
       "    }\n",
       "</style>\n",
       "<table border=\"1\" class=\"dataframe\">\n",
       "  <thead>\n",
       "    <tr style=\"text-align: right;\">\n",
       "      <th></th>\n",
       "      <th>predict</th>\n",
       "      <th>truth</th>\n",
       "      <th>error</th>\n",
       "    </tr>\n",
       "  </thead>\n",
       "  <tbody>\n",
       "    <tr>\n",
       "      <th>0</th>\n",
       "      <td>97.562889</td>\n",
       "      <td>106.0</td>\n",
       "      <td>0.079595</td>\n",
       "    </tr>\n",
       "    <tr>\n",
       "      <th>1</th>\n",
       "      <td>48.304008</td>\n",
       "      <td>37.0</td>\n",
       "      <td>0.305514</td>\n",
       "    </tr>\n",
       "    <tr>\n",
       "      <th>2</th>\n",
       "      <td>34.956127</td>\n",
       "      <td>37.0</td>\n",
       "      <td>0.055240</td>\n",
       "    </tr>\n",
       "    <tr>\n",
       "      <th>3</th>\n",
       "      <td>59.692013</td>\n",
       "      <td>67.0</td>\n",
       "      <td>0.109074</td>\n",
       "    </tr>\n",
       "    <tr>\n",
       "      <th>4</th>\n",
       "      <td>118.139969</td>\n",
       "      <td>116.0</td>\n",
       "      <td>0.018448</td>\n",
       "    </tr>\n",
       "  </tbody>\n",
       "</table>\n",
       "</div>"
      ],
      "text/plain": [
       "      predict  truth     error\n",
       "0   97.562889  106.0  0.079595\n",
       "1   48.304008   37.0  0.305514\n",
       "2   34.956127   37.0  0.055240\n",
       "3   59.692013   67.0  0.109074\n",
       "4  118.139969  116.0  0.018448"
      ]
     },
     "execution_count": 17,
     "metadata": {},
     "output_type": "execute_result"
    }
   ],
   "source": [
    "df_result = pd.DataFrame()\n",
    "\n",
    "# 1. 使用X_valid去評價此模型\n",
    "# 2. 使用 ['predict', 'truth', 'error'] 三個欄位的DataFrame去使決畫呈現預測結果\n",
    "#    (1). 請注意與測結果(Y_pred)與真實值(Y_valid)都必須取exp方能反映實際情況\n",
    "#    (2). error 請使用計算np.abs(predict-truth)/truth計算誤差百分比\n",
    "#=============your works starts===============#\n",
    "Y_pred =\n",
    "df_result['predict'] =\n",
    "df_result['truth'] =\n",
    "df_result['error'] =\n",
    "df_result_sort =\n",
    "#==============your works ends================#\n",
    "\n",
    "df_result.head()"
   ]
  },
  {
   "cell_type": "code",
   "execution_count": 18,
   "metadata": {},
   "outputs": [
    {
     "data": {
      "image/png": "[encoded data removed]",
      "text/plain": [
       "<Figure size 432x288 with 1 Axes>"
      ]
     },
     "metadata": {
      "needs_background": "light"
     },
     "output_type": "display_data"
    }
   ],
   "source": [
    "# 請使用df_result_sort濾掉error大於1的部分畫出error的分布圖\n",
    "#!=============your works starts===============!#\n",
    "\n",
    "#!==============your works ends================!#\n",
    "\n",
    "plt.show()"
   ]
  },
  {
   "cell_type": "code",
   "execution_count": 19,
   "metadata": {},
   "outputs": [
    {
     "data": {
      "image/png": "[encoded data removed]",
      "text/plain": [
       "<Figure size 432x288 with 1 Axes>"
      ]
     },
     "metadata": {
      "needs_background": "light"
     },
     "output_type": "display_data"
    }
   ],
   "source": [
    "# 請使用plt.scatter，以0~len(df_result)作為x，預測值(黑色)與實際值(紅色)作為y。\n",
    "#!=============your works starts===============!#\n",
    "\n",
    "\n",
    "#!==============your works ends================!#\n",
    "\n",
    "plt.show()"
   ]
  },
  {
   "cell_type": "code",
   "execution_count": null,
   "metadata": {},
   "outputs": [],
   "source": []
  },
  {
   "cell_type": "code",
   "execution_count": null,
   "metadata": {},
   "outputs": [],
   "source": []
  },
  {
   "cell_type": "code",
   "execution_count": null,
   "metadata": {},
   "outputs": [],
   "source": []
  },
  {
   "cell_type": "code",
   "execution_count": null,
   "metadata": {},
   "outputs": [],
   "source": []
  },
  {
   "cell_type": "code",
   "execution_count": null,
   "metadata": {},
   "outputs": [],
   "source": []
  },
  {
   "cell_type": "code",
   "execution_count": null,
   "metadata": {},
   "outputs": [],
   "source": []
  },
  {
   "cell_type": "markdown",
   "metadata": {
    "collapsed": true
   },
   "source": [
    "# 房價資料集"
   ]
  },
  {
   "cell_type": "code",
   "execution_count": 20,
   "metadata": {},
   "outputs": [],
   "source": [
    "# import urllib.request\n",
    "# if 'df_realestate_processed.csv' not in os.listdir():\n",
    "#     url = 'https://s3.amazonaws.com/datasets-jeremy/df_realestate_processed.csv'  \n",
    "#     urllib.request.urlretrieve(url, 'df_realestate_processed.csv')\n",
    "    \n",
    "# # processed\n",
    "# path = \"df_realestate_processed.csv\"\n",
    "# df_realestate_processed = pd.read_csv(path)\n",
    "# X = df_realestate_processed.drop([\"price_per_meter\", \"total_price\"], axis=1)\n",
    "# Y = df_realestate_processed['total_price']\n"
   ]
  },
  {
   "cell_type": "code",
   "execution_count": 21,
   "metadata": {},
   "outputs": [],
   "source": [
    "# X_train = X.iloc[:-1000]\n",
    "# Y_train = Y.iloc[:-1000]\n",
    "# Y_train = np.log(Y_train) \n",
    "\n",
    "# X_valid = X.iloc[-1000:]\n",
    "# Y_valid = Y.iloc[-1000:]\n",
    "# Y_valid = np.log(Y_valid) "
   ]
  },
  {
   "cell_type": "code",
   "execution_count": 22,
   "metadata": {
    "scrolled": true
   },
   "outputs": [],
   "source": [
    "# # Set our parameters for xgboost\n",
    "# params = {}\n",
    "\n",
    "# # 請填入以下參數: \n",
    "# # 目標函數: 線性回歸\n",
    "# # 評價函數: rmse\n",
    "# # 學習速度: 0.01\n",
    "# # 最大深度: 5\n",
    "# # bst = xgboost.train(params, d_train, 3000, watchlist, early_stopping_rounds=50, verbose_eval=10)\n",
    "# #=============your works starts===============#\n",
    "# params['objective'] =\n",
    "# params['eval_metric'] =\n",
    "# params['eta'] =\n",
    "# params['max_depth'] =\n",
    "# d_train =\n",
    "# d_valid =\n",
    "# watchlist =\n",
    "# bst =\n",
    "# Y_pred =\n",
    "# #==============your works ends================#\n"
   ]
  },
  {
   "cell_type": "code",
   "execution_count": 23,
   "metadata": {},
   "outputs": [],
   "source": [
    "#　模型save與load的方式自己看\n",
    "# bst.save_model(\"bst_subtotal_log_with_cross.pickle.dat\")\n",
    "# bst = xgboost.Booster({'nthread':1}) #init model\n",
    "# bst.load_model(\"bst_subtotal_log_with_cross.pickle.dat\") # load data\n"
   ]
  },
  {
   "cell_type": "code",
   "execution_count": 24,
   "metadata": {
    "scrolled": true
   },
   "outputs": [],
   "source": [
    "# # 請使用 xgboost.plot_importance，並設定max_num_features=10\n",
    "# #!=============your works starts===============!#\n",
    "\n",
    "# #!==============your works ends================!#\n",
    "\n",
    "# plt.show()"
   ]
  },
  {
   "cell_type": "code",
   "execution_count": 25,
   "metadata": {},
   "outputs": [],
   "source": [
    "# df_result = pd.DataFrame()\n",
    "\n",
    "# # 1. 使用X_valid去評價此模型\n",
    "# # 2. 使用 ['predict', 'truth', 'error'] 三個欄位的DataFrame去使決畫呈現預測結果\n",
    "# #    (1). 請注意與測結果(Y_pred)與真實值(Y_valid)都必須取exp方能反映實際情況\n",
    "# #    (2). error 請使用計算np.abs(predict-truth)/truth計算誤差百分比\n",
    "# #=============your works starts===============#\n",
    "# Y_pred =\n",
    "# df_result['predict'] =\n",
    "# df_result['truth'] =\n",
    "# df_result['error'] =\n",
    "# df_result_sort =\n",
    "# #==============your works ends================#\n",
    "\n",
    "# df_result.head()"
   ]
  },
  {
   "cell_type": "code",
   "execution_count": 26,
   "metadata": {},
   "outputs": [],
   "source": [
    "# # 請使用df_result_sort濾掉error大於1的部分畫出error的分布圖\n",
    "# #!=============your works starts===============!#\n",
    "\n",
    "# #!==============your works ends================!#\n",
    "\n",
    "# plt.show()"
   ]
  },
  {
   "cell_type": "code",
   "execution_count": 27,
   "metadata": {},
   "outputs": [],
   "source": [
    "# # 請使用plt.scatter，以0~len(df_result)作為x，預測值(黑色)與實際值(紅色)作為y。\n",
    "# #!=============your works starts===============!#\n",
    "\n",
    "\n",
    "# #!==============your works ends================!#\n",
    "\n",
    "# plt.show()"
   ]
  },
  {
   "cell_type": "code",
   "execution_count": null,
   "metadata": {},
   "outputs": [],
   "source": []
  }
 ],
 "metadata": {
  "kernelspec": {
   "display_name": "Python 3",
   "language": "python",
   "name": "python3"
  },
  "language_info": {
   "codemirror_mode": {
    "name": "ipython",
    "version": 3
   },
   "file_extension": ".py",
   "mimetype": "text/x-python",
   "name": "python",
   "nbconvert_exporter": "python",
   "pygments_lexer": "ipython3",
   "version": "3.6.8"
  }
 },
 "nbformat": 4,
 "nbformat_minor": 2
}
